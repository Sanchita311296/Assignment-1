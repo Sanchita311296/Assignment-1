{
 "cells": [
  {
   "cell_type": "markdown",
   "id": "05ccc7aa-65f9-47d2-aeca-5646e762f6b5",
   "metadata": {},
   "source": [
    "1) Guido van Rossum developed python programming language"
   ]
  },
  {
   "cell_type": "markdown",
   "id": "297cb75a-4ce7-4c8b-9a2b-e2a20b6f0a03",
   "metadata": {},
   "source": [
    "2) Python supports multiple programming paradigms, including structured, object-oriented and functional programming."
   ]
  },
  {
   "cell_type": "markdown",
   "id": "0c2d1483-e00f-4180-8c11-2c4d72961ffc",
   "metadata": {},
   "source": [
    "3) Yes, python is a case sensitive language, i.e., it treats uppercase and lowercase characters differently. This applies to identifiers too."
   ]
  },
  {
   "cell_type": "markdown",
   "id": "8b2ea104-0943-4f5d-8283-a571c2f5d616",
   "metadata": {},
   "source": [
    "4) The python file extensions are : \n",
    "\n",
    "   a) .py\n",
    "   b) .pyi\n",
    "   c) .pyc\n",
    "   d) .pyd\n",
    "   e) .pyo\n",
    "   f) .pyw\n",
    "   g) .pyz"
   ]
  },
  {
   "cell_type": "markdown",
   "id": "837c8f39-8af0-4fcf-add2-82d37e5c7d8b",
   "metadata": {},
   "source": [
    "5) Python is an interpreted language, which means the source code of a python program is converted into bytecode that is then  executed by the python virtual machine.  "
   ]
  },
  {
   "cell_type": "markdown",
   "id": "e4b913d9-80eb-4623-a5c2-078b8b82e8e5",
   "metadata": {},
   "source": [
    "6) The blocks of code are: a module, a function body, and a class definition."
   ]
  },
  {
   "cell_type": "markdown",
   "id": "9a108acf-3a76-476f-a158-e2a6203a8b36",
   "metadata": {},
   "source": [
    "7) Hash character (#) is used to give a single line character."
   ]
  },
  {
   "cell_type": "markdown",
   "id": "301dc52c-7d5e-48bf-bc2c-bec60caae9ce",
   "metadata": {},
   "source": [
    "8) function sys.version is used to find the version of python."
   ]
  },
  {
   "cell_type": "markdown",
   "id": "34137989-cffa-4ad9-92a4-581cdd2a3501",
   "metadata": {},
   "source": [
    "9) Lambda construct function."
   ]
  },
  {
   "cell_type": "markdown",
   "id": "4a01b88f-4469-4ce8-ae40-bc33cf121945",
   "metadata": {},
   "source": [
    "10) pip stands for 'preferred installer program'."
   ]
  },
  {
   "cell_type": "markdown",
   "id": "8db077a7-3679-4cfa-afc1-5ed5891e43a8",
   "metadata": {},
   "source": [
    "11) Few built-in-functions in python are: abs(), bool(), dict(), float(), hash(), input(), int(),list(), len(), print(), set(), str(), tuple(), type()."
   ]
  },
  {
   "cell_type": "markdown",
   "id": "8d1ade64-83cc-4440-94d7-c6451694901e",
   "metadata": {},
   "source": [
    "12) An identifier can have a maximum length of 79 characters in python."
   ]
  },
  {
   "cell_type": "markdown",
   "id": "b04e7cc9-7615-48c0-a99c-be62c10a9e49",
   "metadata": {},
   "source": [
    "13) Benefits are as:\n",
    "    a) Earning potential\n",
    "    b) Ease of comprehension \n",
    "    c) Flexibility\n",
    "    d) Used in many industries like web development, computer graphics, basic game development etc\n",
    "    "
   ]
  },
  {
   "cell_type": "markdown",
   "id": "936b6a6f-7828-401e-9ebe-04918afd7d1f",
   "metadata": {},
   "source": [
    "14) Memory management in python involves a private heap containing all python objects and data structures. Python uses a portion of the memory for internal use and non-object memory."
   ]
  },
  {
   "cell_type": "markdown",
   "id": "81c97b02-f9da-4665-9e84-66080f96de4c",
   "metadata": {},
   "source": [
    "15) Install python from the link: https://www.python.org/downloads/\n",
    "After this, install it on your computer. Look for the location where Python has been installed on your PC using the following command on your command prompt: cmd python. Then go to advanced system settings and add new variable and name it as PYTHON_NAME and paste the copied path. Then look for the path variable, select it's values and sekect edit , add a semicolon towards the end of the value if it's not present and then type %PYTHON_HOME%"
   ]
  },
  {
   "cell_type": "markdown",
   "id": "41f1f86a-7993-495f-b552-22bbdc082997",
   "metadata": {},
   "source": [
    "16) Identation is very important in python. Identation refers to the spaces at the beginning of a code line, where in other programming languages the identation in code is for readability only. Python uses identation to indicate a block of code."
   ]
  }
 ],
 "metadata": {
  "kernelspec": {
   "display_name": "Python 3 (ipykernel)",
   "language": "python",
   "name": "python3"
  },
  "language_info": {
   "codemirror_mode": {
    "name": "ipython",
    "version": 3
   },
   "file_extension": ".py",
   "mimetype": "text/x-python",
   "name": "python",
   "nbconvert_exporter": "python",
   "pygments_lexer": "ipython3",
   "version": "3.10.8"
  }
 },
 "nbformat": 4,
 "nbformat_minor": 5
}
